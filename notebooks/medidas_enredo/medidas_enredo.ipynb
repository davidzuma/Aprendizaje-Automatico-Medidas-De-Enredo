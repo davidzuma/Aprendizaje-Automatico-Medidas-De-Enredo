{
 "cells": [
  {
   "cell_type": "markdown",
   "metadata": {
    "id": "6mGK1hWTjeLh"
   },
   "source": [
    "### Instalación de librerias e imports"
   ]
  },
  {
   "cell_type": "code",
   "execution_count": 1,
   "metadata": {
    "colab": {
     "base_uri": "https://localhost:8080/"
    },
    "id": "E2ndQ6qMxkul",
    "executionInfo": {
     "status": "ok",
     "timestamp": 1663152223974,
     "user_tz": -120,
     "elapsed": 38840,
     "user": {
      "displayName": "David Zumaquero Mairena",
      "userId": "16350040826034481586"
     }
    },
    "outputId": "1ac5b738-69ba-4ac4-958a-8515884a0e88",
    "ExecuteTime": {
     "end_time": "2024-04-14T18:41:54.979646Z",
     "start_time": "2024-04-14T18:41:49.660539Z"
    }
   },
   "outputs": [
    {
     "name": "stdout",
     "output_type": "stream",
     "text": [
      "Requirement already satisfied: igraph in /Users/davidzumaquero/miniconda3/envs/tfm-env/lib/python3.9/site-packages (0.11.4)\r\n",
      "Requirement already satisfied: texttable>=1.6.2 in /Users/davidzumaquero/miniconda3/envs/tfm-env/lib/python3.9/site-packages (from igraph) (1.7.0)\r\n",
      "Requirement already satisfied: cairocffi in /Users/davidzumaquero/miniconda3/envs/tfm-env/lib/python3.9/site-packages (1.6.1)\r\n",
      "Requirement already satisfied: cffi>=1.1.0 in /Users/davidzumaquero/miniconda3/envs/tfm-env/lib/python3.9/site-packages (from cairocffi) (1.16.0)\r\n",
      "Requirement already satisfied: pycparser in /Users/davidzumaquero/miniconda3/envs/tfm-env/lib/python3.9/site-packages (from cffi>=1.1.0->cairocffi) (2.21)\r\n",
      "Requirement already satisfied: scikit-network in /Users/davidzumaquero/miniconda3/envs/tfm-env/lib/python3.9/site-packages (0.32.1)\r\n",
      "Requirement already satisfied: numpy>=1.22.4 in /Users/davidzumaquero/miniconda3/envs/tfm-env/lib/python3.9/site-packages (from scikit-network) (1.26.4)\r\n",
      "Requirement already satisfied: scipy>=1.7.3 in /Users/davidzumaquero/miniconda3/envs/tfm-env/lib/python3.9/site-packages (from scikit-network) (1.12.0)\r\n",
      "Requirement already satisfied: tensorflow in /Users/davidzumaquero/miniconda3/envs/tfm-env/lib/python3.9/site-packages (2.16.1)\r\n",
      "Requirement already satisfied: absl-py>=1.0.0 in /Users/davidzumaquero/miniconda3/envs/tfm-env/lib/python3.9/site-packages (from tensorflow) (2.1.0)\r\n",
      "Requirement already satisfied: astunparse>=1.6.0 in /Users/davidzumaquero/miniconda3/envs/tfm-env/lib/python3.9/site-packages (from tensorflow) (1.6.3)\r\n",
      "Requirement already satisfied: flatbuffers>=23.5.26 in /Users/davidzumaquero/miniconda3/envs/tfm-env/lib/python3.9/site-packages (from tensorflow) (24.3.25)\r\n",
      "Requirement already satisfied: gast!=0.5.0,!=0.5.1,!=0.5.2,>=0.2.1 in /Users/davidzumaquero/miniconda3/envs/tfm-env/lib/python3.9/site-packages (from tensorflow) (0.5.4)\r\n",
      "Requirement already satisfied: google-pasta>=0.1.1 in /Users/davidzumaquero/miniconda3/envs/tfm-env/lib/python3.9/site-packages (from tensorflow) (0.2.0)\r\n",
      "Requirement already satisfied: h5py>=3.10.0 in /Users/davidzumaquero/miniconda3/envs/tfm-env/lib/python3.9/site-packages (from tensorflow) (3.11.0)\r\n",
      "Requirement already satisfied: libclang>=13.0.0 in /Users/davidzumaquero/miniconda3/envs/tfm-env/lib/python3.9/site-packages (from tensorflow) (18.1.1)\r\n",
      "Requirement already satisfied: ml-dtypes~=0.3.1 in /Users/davidzumaquero/miniconda3/envs/tfm-env/lib/python3.9/site-packages (from tensorflow) (0.3.2)\r\n",
      "Requirement already satisfied: opt-einsum>=2.3.2 in /Users/davidzumaquero/miniconda3/envs/tfm-env/lib/python3.9/site-packages (from tensorflow) (3.3.0)\r\n",
      "Requirement already satisfied: packaging in /Users/davidzumaquero/miniconda3/envs/tfm-env/lib/python3.9/site-packages (from tensorflow) (23.2)\r\n",
      "Requirement already satisfied: protobuf!=4.21.0,!=4.21.1,!=4.21.2,!=4.21.3,!=4.21.4,!=4.21.5,<5.0.0dev,>=3.20.3 in /Users/davidzumaquero/miniconda3/envs/tfm-env/lib/python3.9/site-packages (from tensorflow) (4.25.3)\r\n",
      "Requirement already satisfied: requests<3,>=2.21.0 in /Users/davidzumaquero/miniconda3/envs/tfm-env/lib/python3.9/site-packages (from tensorflow) (2.31.0)\r\n",
      "Requirement already satisfied: setuptools in /Users/davidzumaquero/miniconda3/envs/tfm-env/lib/python3.9/site-packages (from tensorflow) (68.2.2)\r\n",
      "Requirement already satisfied: six>=1.12.0 in /Users/davidzumaquero/miniconda3/envs/tfm-env/lib/python3.9/site-packages (from tensorflow) (1.16.0)\r\n",
      "Requirement already satisfied: termcolor>=1.1.0 in /Users/davidzumaquero/miniconda3/envs/tfm-env/lib/python3.9/site-packages (from tensorflow) (2.4.0)\r\n",
      "Requirement already satisfied: typing-extensions>=3.6.6 in /Users/davidzumaquero/miniconda3/envs/tfm-env/lib/python3.9/site-packages (from tensorflow) (4.9.0)\r\n",
      "Requirement already satisfied: wrapt>=1.11.0 in /Users/davidzumaquero/miniconda3/envs/tfm-env/lib/python3.9/site-packages (from tensorflow) (1.16.0)\r\n",
      "Requirement already satisfied: grpcio<2.0,>=1.24.3 in /Users/davidzumaquero/miniconda3/envs/tfm-env/lib/python3.9/site-packages (from tensorflow) (1.62.1)\r\n",
      "Requirement already satisfied: tensorboard<2.17,>=2.16 in /Users/davidzumaquero/miniconda3/envs/tfm-env/lib/python3.9/site-packages (from tensorflow) (2.16.2)\r\n",
      "Requirement already satisfied: keras>=3.0.0 in /Users/davidzumaquero/miniconda3/envs/tfm-env/lib/python3.9/site-packages (from tensorflow) (3.2.1)\r\n",
      "Requirement already satisfied: tensorflow-io-gcs-filesystem>=0.23.1 in /Users/davidzumaquero/miniconda3/envs/tfm-env/lib/python3.9/site-packages (from tensorflow) (0.36.0)\r\n",
      "Requirement already satisfied: numpy<2.0.0,>=1.23.5 in /Users/davidzumaquero/miniconda3/envs/tfm-env/lib/python3.9/site-packages (from tensorflow) (1.26.4)\r\n",
      "Requirement already satisfied: wheel<1.0,>=0.23.0 in /Users/davidzumaquero/miniconda3/envs/tfm-env/lib/python3.9/site-packages (from astunparse>=1.6.0->tensorflow) (0.41.2)\r\n",
      "Requirement already satisfied: rich in /Users/davidzumaquero/miniconda3/envs/tfm-env/lib/python3.9/site-packages (from keras>=3.0.0->tensorflow) (13.7.1)\r\n",
      "Requirement already satisfied: namex in /Users/davidzumaquero/miniconda3/envs/tfm-env/lib/python3.9/site-packages (from keras>=3.0.0->tensorflow) (0.0.7)\r\n",
      "Requirement already satisfied: optree in /Users/davidzumaquero/miniconda3/envs/tfm-env/lib/python3.9/site-packages (from keras>=3.0.0->tensorflow) (0.11.0)\r\n",
      "Requirement already satisfied: charset-normalizer<4,>=2 in /Users/davidzumaquero/miniconda3/envs/tfm-env/lib/python3.9/site-packages (from requests<3,>=2.21.0->tensorflow) (2.0.4)\r\n",
      "Requirement already satisfied: idna<4,>=2.5 in /Users/davidzumaquero/miniconda3/envs/tfm-env/lib/python3.9/site-packages (from requests<3,>=2.21.0->tensorflow) (3.4)\r\n",
      "Requirement already satisfied: urllib3<3,>=1.21.1 in /Users/davidzumaquero/miniconda3/envs/tfm-env/lib/python3.9/site-packages (from requests<3,>=2.21.0->tensorflow) (2.1.0)\r\n",
      "Requirement already satisfied: certifi>=2017.4.17 in /Users/davidzumaquero/miniconda3/envs/tfm-env/lib/python3.9/site-packages (from requests<3,>=2.21.0->tensorflow) (2024.2.2)\r\n",
      "Requirement already satisfied: markdown>=2.6.8 in /Users/davidzumaquero/miniconda3/envs/tfm-env/lib/python3.9/site-packages (from tensorboard<2.17,>=2.16->tensorflow) (3.6)\r\n",
      "Requirement already satisfied: tensorboard-data-server<0.8.0,>=0.7.0 in /Users/davidzumaquero/miniconda3/envs/tfm-env/lib/python3.9/site-packages (from tensorboard<2.17,>=2.16->tensorflow) (0.7.2)\r\n",
      "Requirement already satisfied: werkzeug>=1.0.1 in /Users/davidzumaquero/miniconda3/envs/tfm-env/lib/python3.9/site-packages (from tensorboard<2.17,>=2.16->tensorflow) (3.0.2)\r\n",
      "Requirement already satisfied: importlib-metadata>=4.4 in /Users/davidzumaquero/miniconda3/envs/tfm-env/lib/python3.9/site-packages (from markdown>=2.6.8->tensorboard<2.17,>=2.16->tensorflow) (7.0.1)\r\n",
      "Requirement already satisfied: MarkupSafe>=2.1.1 in /Users/davidzumaquero/miniconda3/envs/tfm-env/lib/python3.9/site-packages (from werkzeug>=1.0.1->tensorboard<2.17,>=2.16->tensorflow) (2.1.3)\r\n",
      "Requirement already satisfied: markdown-it-py>=2.2.0 in /Users/davidzumaquero/miniconda3/envs/tfm-env/lib/python3.9/site-packages (from rich->keras>=3.0.0->tensorflow) (3.0.0)\r\n",
      "Requirement already satisfied: pygments<3.0.0,>=2.13.0 in /Users/davidzumaquero/miniconda3/envs/tfm-env/lib/python3.9/site-packages (from rich->keras>=3.0.0->tensorflow) (2.15.1)\r\n",
      "Requirement already satisfied: zipp>=0.5 in /Users/davidzumaquero/miniconda3/envs/tfm-env/lib/python3.9/site-packages (from importlib-metadata>=4.4->markdown>=2.6.8->tensorboard<2.17,>=2.16->tensorflow) (3.17.0)\r\n",
      "Requirement already satisfied: mdurl~=0.1 in /Users/davidzumaquero/miniconda3/envs/tfm-env/lib/python3.9/site-packages (from markdown-it-py>=2.2.0->rich->keras>=3.0.0->tensorflow) (0.1.2)\r\n",
      "Requirement already satisfied: pandas in /Users/davidzumaquero/miniconda3/envs/tfm-env/lib/python3.9/site-packages (2.2.2)\r\n",
      "Requirement already satisfied: numpy>=1.22.4 in /Users/davidzumaquero/miniconda3/envs/tfm-env/lib/python3.9/site-packages (from pandas) (1.26.4)\r\n",
      "Requirement already satisfied: python-dateutil>=2.8.2 in /Users/davidzumaquero/miniconda3/envs/tfm-env/lib/python3.9/site-packages (from pandas) (2.8.2)\r\n",
      "Requirement already satisfied: pytz>=2020.1 in /Users/davidzumaquero/miniconda3/envs/tfm-env/lib/python3.9/site-packages (from pandas) (2023.3.post1)\r\n",
      "Requirement already satisfied: tzdata>=2022.7 in /Users/davidzumaquero/miniconda3/envs/tfm-env/lib/python3.9/site-packages (from pandas) (2024.1)\r\n",
      "Requirement already satisfied: six>=1.5 in /Users/davidzumaquero/miniconda3/envs/tfm-env/lib/python3.9/site-packages (from python-dateutil>=2.8.2->pandas) (1.16.0)\r\n",
      "Requirement already satisfied: matplotlib in /Users/davidzumaquero/miniconda3/envs/tfm-env/lib/python3.9/site-packages (3.8.4)\r\n",
      "Requirement already satisfied: contourpy>=1.0.1 in /Users/davidzumaquero/miniconda3/envs/tfm-env/lib/python3.9/site-packages (from matplotlib) (1.2.1)\r\n",
      "Requirement already satisfied: cycler>=0.10 in /Users/davidzumaquero/miniconda3/envs/tfm-env/lib/python3.9/site-packages (from matplotlib) (0.12.1)\r\n",
      "Requirement already satisfied: fonttools>=4.22.0 in /Users/davidzumaquero/miniconda3/envs/tfm-env/lib/python3.9/site-packages (from matplotlib) (4.51.0)\r\n",
      "Requirement already satisfied: kiwisolver>=1.3.1 in /Users/davidzumaquero/miniconda3/envs/tfm-env/lib/python3.9/site-packages (from matplotlib) (1.4.5)\r\n",
      "Requirement already satisfied: numpy>=1.21 in /Users/davidzumaquero/miniconda3/envs/tfm-env/lib/python3.9/site-packages (from matplotlib) (1.26.4)\r\n",
      "Requirement already satisfied: packaging>=20.0 in /Users/davidzumaquero/miniconda3/envs/tfm-env/lib/python3.9/site-packages (from matplotlib) (23.2)\r\n",
      "Requirement already satisfied: pillow>=8 in /Users/davidzumaquero/miniconda3/envs/tfm-env/lib/python3.9/site-packages (from matplotlib) (10.3.0)\r\n",
      "Requirement already satisfied: pyparsing>=2.3.1 in /Users/davidzumaquero/miniconda3/envs/tfm-env/lib/python3.9/site-packages (from matplotlib) (3.1.2)\r\n",
      "Requirement already satisfied: python-dateutil>=2.7 in /Users/davidzumaquero/miniconda3/envs/tfm-env/lib/python3.9/site-packages (from matplotlib) (2.8.2)\r\n",
      "Requirement already satisfied: importlib-resources>=3.2.0 in /Users/davidzumaquero/miniconda3/envs/tfm-env/lib/python3.9/site-packages (from matplotlib) (6.4.0)\r\n",
      "Requirement already satisfied: zipp>=3.1.0 in /Users/davidzumaquero/miniconda3/envs/tfm-env/lib/python3.9/site-packages (from importlib-resources>=3.2.0->matplotlib) (3.17.0)\r\n",
      "Requirement already satisfied: six>=1.5 in /Users/davidzumaquero/miniconda3/envs/tfm-env/lib/python3.9/site-packages (from python-dateutil>=2.7->matplotlib) (1.16.0)\r\n",
      "Requirement already satisfied: scikit-learn in /Users/davidzumaquero/miniconda3/envs/tfm-env/lib/python3.9/site-packages (1.4.2)\r\n",
      "Requirement already satisfied: numpy>=1.19.5 in /Users/davidzumaquero/miniconda3/envs/tfm-env/lib/python3.9/site-packages (from scikit-learn) (1.26.4)\r\n",
      "Requirement already satisfied: scipy>=1.6.0 in /Users/davidzumaquero/miniconda3/envs/tfm-env/lib/python3.9/site-packages (from scikit-learn) (1.12.0)\r\n",
      "Requirement already satisfied: joblib>=1.2.0 in /Users/davidzumaquero/miniconda3/envs/tfm-env/lib/python3.9/site-packages (from scikit-learn) (1.2.0)\r\n",
      "Requirement already satisfied: threadpoolctl>=2.0.0 in /Users/davidzumaquero/miniconda3/envs/tfm-env/lib/python3.9/site-packages (from scikit-learn) (2.2.0)\r\n"
     ]
    }
   ],
   "source": [
    "!pip install igraph\n",
    "!pip install cairocffi\n",
    "!pip install scikit-network\n",
    "!pip install tensorflow\n",
    "!pip install pandas\n",
    "!pip install matplotlib\n",
    "!pip install scikit-learn"
   ]
  },
  {
   "cell_type": "code",
   "execution_count": 2,
   "metadata": {
    "id": "lfdAyE7is-lt",
    "ExecuteTime": {
     "end_time": "2024-04-14T18:41:57.272075Z",
     "start_time": "2024-04-14T18:41:54.981682Z"
    }
   },
   "outputs": [
    {
     "ename": "ModuleNotFoundError",
     "evalue": "No module named 'sklearn.decomposition'",
     "output_type": "error",
     "traceback": [
      "\u001B[0;31m---------------------------------------------------------------------------\u001B[0m",
      "\u001B[0;31mModuleNotFoundError\u001B[0m                       Traceback (most recent call last)",
      "Cell \u001B[0;32mIn[2], line 11\u001B[0m\n\u001B[1;32m      9\u001B[0m \u001B[38;5;28;01mfrom\u001B[39;00m \u001B[38;5;21;01mtensorflow\u001B[39;00m\u001B[38;5;21;01m.\u001B[39;00m\u001B[38;5;21;01mkeras\u001B[39;00m \u001B[38;5;28;01mimport\u001B[39;00m backend \u001B[38;5;28;01mas\u001B[39;00m K\n\u001B[1;32m     10\u001B[0m \u001B[38;5;28;01mfrom\u001B[39;00m \u001B[38;5;21;01mtensorflow\u001B[39;00m\u001B[38;5;21;01m.\u001B[39;00m\u001B[38;5;21;01mpython\u001B[39;00m\u001B[38;5;21;01m.\u001B[39;00m\u001B[38;5;21;01mframework\u001B[39;00m\u001B[38;5;21;01m.\u001B[39;00m\u001B[38;5;21;01mops\u001B[39;00m \u001B[38;5;28;01mimport\u001B[39;00m disable_eager_execution\n\u001B[0;32m---> 11\u001B[0m \u001B[38;5;28;01mfrom\u001B[39;00m \u001B[38;5;21;01msklearn\u001B[39;00m\u001B[38;5;21;01m.\u001B[39;00m\u001B[38;5;21;01mdecomposition\u001B[39;00m \u001B[38;5;28;01mimport\u001B[39;00m PCA\n\u001B[1;32m     12\u001B[0m \u001B[38;5;28;01mimport\u001B[39;00m \u001B[38;5;21;01mnumpy\u001B[39;00m \u001B[38;5;28;01mas\u001B[39;00m \u001B[38;5;21;01mnp\u001B[39;00m\n\u001B[1;32m     13\u001B[0m \u001B[38;5;28;01mfrom\u001B[39;00m \u001B[38;5;21;01mnumpy\u001B[39;00m \u001B[38;5;28;01mimport\u001B[39;00m vstack\n",
      "\u001B[0;31mModuleNotFoundError\u001B[0m: No module named 'sklearn.decomposition'"
     ]
    }
   ],
   "source": [
    "import pandas as pd\n",
    "import math\n",
    "import numpy as np\n",
    "import matplotlib.pyplot as plt\n",
    "import tensorflow as tf\n",
    "from tensorflow import keras\n",
    "from tensorflow.keras import layers\n",
    "from tensorflow.keras.optimizers import SGD\n",
    "from tensorflow.keras import backend as K\n",
    "from tensorflow.python.framework.ops import disable_eager_execution\n",
    "from sklearn.decomposition import PCA\n",
    "import numpy as np\n",
    "from numpy import vstack\n",
    "from numpy import zeros\n",
    "from numpy.random import rand\n",
    "from numpy.linalg import norm\n",
    "from sklearn.neighbors import kneighbors_graph\n",
    "from sklearn.neighbors import radius_neighbors_graph\n",
    "from sklearn.neighbors import radius_neighbors_graph\n",
    "from statistics import stdev\n",
    "import scipy.sparse\n",
    "import igraph\n",
    "import matplotlib.pyplot as plt\n",
    "from tensorflow.python.framework.ops import disable_eager_execution\n",
    "from IPython.display import SVG\n",
    "from sknetwork.data import karate_club, painters, movie_actor\n",
    "from sknetwork.topology import get_connected_components, get_largest_connected_component\n",
    "from sknetwork.visualization import svg_graph, svg_bigraph"
   ]
  },
  {
   "cell_type": "code",
   "execution_count": null,
   "metadata": {
    "id": "im9AfM0aFaPD"
   },
   "outputs": [],
   "source": [
    "# Necesario para ver entre las capas\n",
    "disable_eager_execution()"
   ]
  },
  {
   "cell_type": "markdown",
   "metadata": {
    "id": "p53lLGrKBbh6"
   },
   "source": [
    "### Función para sacar los outputs de la capas\n"
   ]
  },
  {
   "cell_type": "code",
   "execution_count": null,
   "metadata": {
    "id": "sZqjrTCqBNIG"
   },
   "outputs": [],
   "source": [
    "def get_layers_output(model, data):\n",
    "\n",
    "  inp = model.input                                           \n",
    "  outputs = [layer.output for layer in model.layers]          \n",
    "  functors = [K.function([inp, K.learning_phase()], [out]) for out in outputs] \n",
    "\n",
    "  layer_outs = [func([x, 1.]) for func in functors]\n",
    "  return layer_outs"
   ]
  },
  {
   "cell_type": "markdown",
   "metadata": {
    "id": "RtQq-3cnEzpU"
   },
   "source": [
    "### Ejemplo para pintar grafos comentado"
   ]
  },
  {
   "cell_type": "code",
   "execution_count": null,
   "metadata": {
    "id": "qNYvV1DsvbwI"
   },
   "outputs": [],
   "source": [
    "#labels = get_connected_components(matriz_grafo)\n",
    "#image = svg_graph(matriz_grafo, labels=labels)\n",
    "#new_adjacency, index = get_largest_connected_component(matriz_grafo, return_index=True)\n",
    "#labels = get_connected_components(matriz_grafo)\n",
    "#image = svg_graph(new_adjacency, labels=index)\n",
    "#new_adjacency\n",
    "#index\n",
    "#SVG(image)\n",
    "#new_adjacency\n",
    "#len(index)"
   ]
  },
  {
   "cell_type": "markdown",
   "metadata": {
    "id": "Y5VArjLIB2gQ"
   },
   "source": [
    "## Funciones para sacar los coeficientes de enredo."
   ]
  },
  {
   "cell_type": "code",
   "execution_count": null,
   "metadata": {
    "id": "of3bn0jQ2VBe"
   },
   "outputs": [],
   "source": [
    "def get_grafo_knn(datos,ratio_min):\n",
    "  k = 1\n",
    "  matriz_grafo = kneighbors_graph(np.array(datos), k, mode='distance')\n",
    "  matriz_grafo = matriz_grafo.todense()\n",
    "  matriz_grafo = np.array(matriz_grafo)\n",
    "\n",
    "  for i in range(len(matriz_grafo)):\n",
    "    for j in range(len(matriz_grafo)):\n",
    "      matriz_grafo[j][i]=matriz_grafo[i][j]\n",
    "  try:\n",
    "    new_adjacency, index = get_largest_connected_component(matriz_grafo, return_index=True)\n",
    "    ratio_connected = len(index)/len(datos)\n",
    "  except:\n",
    "    ratio_connected = 0\n",
    "  if ratio_connected>ratio_min:\n",
    "    matriz_grafo = new_adjacency.todense()\n",
    "    g = igraph.Graph.Weighted_Adjacency(matriz_grafo, mode='undirected')\n",
    "    print('Número de instancias:',len(index))\n",
    "    print('número de vecinos:',k)\n",
    "    return g\n",
    "  g = igraph.Graph.Weighted_Adjacency(matriz_grafo, mode='undirected')\n",
    "  while not g.is_connected():\n",
    "    \n",
    "    matriz_grafo = kneighbors_graph(datos, k, mode='distance')\n",
    "    matriz_grafo = matriz_grafo.todense()\n",
    "    matriz_grafo = np.array(matriz_grafo)\n",
    "    \n",
    "    for i in range(len(matriz_grafo)):\n",
    "      for j in range(len(matriz_grafo)):\n",
    "        matriz_grafo[j][i]=matriz_grafo[i][j]\n",
    "    try:\n",
    "      new_adjacency, index = get_largest_connected_component(matriz_grafo, return_index=True)\n",
    "      ratio_connected = len(index)/len(datos)\n",
    "    except:\n",
    "      ratio_connected = 0\n",
    "    if ratio_connected>ratio_min:\n",
    "      matriz_grafo = new_adjacency.todense()\n",
    "      g = igraph.Graph.Weighted_Adjacency(matriz_grafo, mode='undirected')\n",
    "      print('Número de instancias:',len(index))\n",
    "      print('número de vecinos:',k)\n",
    "      return g\n",
    "    g = igraph.Graph.Weighted_Adjacency(matriz_grafo,mode ='undirected')\n",
    "    k +=1\n",
    "  print('número de vecinos:', k)\n",
    "  return g"
   ]
  },
  {
   "cell_type": "code",
   "execution_count": null,
   "metadata": {
    "id": "SFZb4NohE5zX"
   },
   "outputs": [],
   "source": [
    "# Radio para que sea conectado\n",
    "def radio_minimo(datos, incremento=0.01):\n",
    "  n_puntos = datos.shape[0]\n",
    "  G_E = distancia_euclidea(datos)\n",
    "  maximo_GE = np.amax(G_E)\n",
    "  diagonal_grande = np.diag(np.zeros((n_puntos,)) + maximo_GE)\n",
    "  radio = np.amax(np.amin(G_E + diagonal_grande, axis=0))\n",
    "  radio = radio + incremento\n",
    "  return radio"
   ]
  },
  {
   "cell_type": "code",
   "execution_count": null,
   "metadata": {
    "id": "tX1Xa7oq3FJS"
   },
   "outputs": [],
   "source": [
    "def get_grafo_rnn(datos,ratio_min):\n",
    "  radius = 0.01\n",
    "  n_puntos = datos.shape[0]\n",
    "  matriz_grafo = radius_neighbors_graph(np.array(datos), radius, mode='distance')\n",
    "  matriz_grafo = matriz_grafo.todense()\n",
    "  g = igraph.Graph.Weighted_Adjacency(matriz_grafo, mode='undirected')\n",
    "\n",
    "  while not g.is_connected():\n",
    "    n_puntos = datos.shape[0]\n",
    "    matriz_grafo = radius_neighbors_graph(datos, radius, mode='distance')\n",
    "    try:\n",
    "      new_adjacency, index = get_largest_connected_component(matriz_grafo, return_index=True)\n",
    "      ratio_connected = len(index)/len(datos)\n",
    "    except:\n",
    "      ratio_connected = 0\n",
    "    if ratio_connected>ratio_min:\n",
    "      matriz_grafo = new_adjacency.todense()\n",
    "      g = igraph.Graph.Weighted_Adjacency(matriz_grafo, mode='undirected')\n",
    "      print('Número de instancias:',len(index))\n",
    "      print('radio:',radius)\n",
    "      return g\n",
    "    matriz_grafo = matriz_grafo.todense()\n",
    "    g = igraph.Graph.Weighted_Adjacency(matriz_grafo, mode='undirected')\n",
    "\n",
    "    radius += 0.01  \n",
    "  print('radio:',radius)\n",
    "  return g"
   ]
  },
  {
   "cell_type": "code",
   "execution_count": null,
   "metadata": {
    "id": "ftf2xTr_tTTP"
   },
   "outputs": [],
   "source": [
    "def distancia_euclidea(datos, dim):\n",
    "  #n_puntos = datos.shape[0]\n",
    "  G_E = zeros((dim, dim))\n",
    "  for i in range(dim):\n",
    "    for j in range(dim):\n",
    "      G_E[i, j] = norm(datos[i]-datos[j])\n",
    "  return G_E"
   ]
  },
  {
   "cell_type": "code",
   "execution_count": null,
   "metadata": {
    "id": "Hb18swgFt8Fq"
   },
   "outputs": [],
   "source": [
    "def distancia_geodesica(datos,ratio_min,tipo):\n",
    "  #radio_min = radio_minimo(datos)\n",
    "\n",
    "  grafo = get_grafo_rnn(datos,ratio_min) if tipo == 'r' else get_grafo_knn(datos,ratio_min)\n",
    "  caminos = grafo.distances(weights='weight')\n",
    "  caminos = np.asarray(caminos)\n",
    "  return caminos, len(caminos)"
   ]
  },
  {
   "cell_type": "code",
   "execution_count": null,
   "metadata": {
    "id": "Fi10duCK_sFA"
   },
   "outputs": [],
   "source": [
    "def vector_triu(matriz):\n",
    "  n = matriz.shape[0]\n",
    "  i, j = np.triu_indices(n-1)\n",
    "  return matriz[i, j+1]"
   ]
  },
  {
   "cell_type": "code",
   "execution_count": null,
   "metadata": {
    "id": "oqCROIWi_L2t"
   },
   "outputs": [],
   "source": [
    "def coef_entangle(datos,ratio_min,tipo):\n",
    "# g es el grafo correspondiente a datos\n",
    "  G_M, dim = distancia_geodesica(datos,ratio_min,tipo)\n",
    "  G_E = distancia_euclidea(datos, dim)\n",
    "  r_E = vector_triu(G_E)\n",
    "  r_M = vector_triu(G_M)\n",
    "  c = np.mean(1-np.multiply(r_M - np.mean(r_M), r_E - np.mean(r_E)) / (stdev(r_E)*stdev(r_M)))\n",
    "  d = np.mean(np.divide(np.abs(r_M - r_E), r_E))  \n",
    "  return c, d"
   ]
  },
  {
   "cell_type": "code",
   "execution_count": null,
   "metadata": {
    "id": "Gw9mkF9eFEGM"
   },
   "outputs": [],
   "source": [
    "def remove_outliers(layer):\n",
    "  mu = [np.mean(l) for l in layer.transpose()]\n",
    "  dev =  [np.std(l) for l in layer.transpose()]\n",
    "  layer = np.array([point for point in layer if norm(point-mu)<norm(dev)])\n",
    "  print('número de datos:',len(layer))\n",
    "  return layer"
   ]
  },
  {
   "cell_type": "code",
   "execution_count": null,
   "metadata": {
    "id": "m-0ccI68LhoM"
   },
   "outputs": [],
   "source": [
    "def do_report(x,layer_outputs,mask_0,mask_1,max_capas,ratio_min,tipo):\n",
    "  input_0 = np.array(x.iloc[mask_0])\n",
    "  input_1 = np.array(x.iloc[mask_1])\n",
    "  print(f'------------ Input ------------')\n",
    "  print('Variedad_0: c, d',coef_entangle(input_0,ratio_min,tipo))\n",
    "  print('Variedad_1: c, d',coef_entangle(input_1,ratio_min,tipo))\n",
    "\n",
    "  for id, layer_out in enumerate(layer_outputs[:max_capas]):\n",
    "    l = list(map(list, zip(*layer_out)))\n",
    "    layer_data = np.array([row[0] for row in l])\n",
    "    layer_out_0 = layer_data[mask_0]\n",
    "    layer_out_1 = layer_data[mask_1]\n",
    "    print(f'------------CAPA {id+1}------------')\n",
    "    print('Variedad_0: c, d:',coef_entangle(layer_out_0,ratio_min,tipo))\n",
    "    print('Variedad_1: c, d',coef_entangle(layer_out_1,ratio_min,tipo))\n",
    "  return None\n"
   ]
  },
  {
   "cell_type": "code",
   "source": [
    "def do_report_table(x,layer_outputs,mask_0,mask_1,max_capas=4,ratio_min=0.6,tipo ='r'):\n",
    "  input_0 = np.array(x.iloc[mask_0])\n",
    "  input_1 = np.array(x.iloc[mask_1])\n",
    "  df = pd.DataFrame(\n",
    "   columns =['c - Clase 8', 'd-Clase 8', 'c-Clase 1', 'd-Clase 1']\n",
    ")\n",
    "  \n",
    "  c_0,d_0 = coef_entangle(input_0,ratio_min,tipo)\n",
    "  c_1,d_1 = coef_entangle(input_1,ratio_min,tipo)\n",
    "\n",
    "  df.loc['Entrada'] = [c_0,d_0,c_1,d_1]\n",
    "\n",
    "\n",
    "  for id, layer_out in enumerate(layer_outputs[:max_capas]):\n",
    "    print(f'------------CAPA {id+1}------------')\n",
    "    l = list(map(list, zip(*layer_out)))\n",
    "    layer_data = np.array([row[0] for row in l])\n",
    "    layer_out_1 = layer_data[mask_1]\n",
    "    layer_out_0 = layer_data[mask_0]\n",
    "    c_0,d_0 = coef_entangle(layer_out_0,ratio_min,tipo)\n",
    "    c_1,d_1 = coef_entangle(layer_out_1,ratio_min,tipo)\n",
    "    df.loc[f'Capa {id+1}'] = [c_0,d_0,c_1,d_1]\n",
    "  return df"
   ],
   "metadata": {
    "id": "xQ8F2CC5h2w0"
   },
   "execution_count": null,
   "outputs": []
  },
  {
   "cell_type": "code",
   "source": [
    "df = pd.DataFrame(\n",
    "    {\n",
    "    'Medida de enredo' : ['c','d','c','d']}\n",
    ")\n",
    "df = df.transpose()\n",
    "#df.columns= df.loc['Clase']\n",
    "df.columns =['Clase 1', 'Clase 1', 'Clase 0', 'Clase 0']\n"
   ],
   "metadata": {
    "id": "r1Q4nThnc92f"
   },
   "execution_count": null,
   "outputs": []
  },
  {
   "cell_type": "markdown",
   "metadata": {
    "id": "pikEY2k6Iozz"
   },
   "source": [
    "# EJEMPLOS"
   ]
  },
  {
   "cell_type": "markdown",
   "metadata": {
    "id": "TmrDDi9RHwW6"
   },
   "source": [
    "## DATASET ESPIRAL"
   ]
  },
  {
   "cell_type": "code",
   "execution_count": null,
   "metadata": {
    "colab": {
     "base_uri": "https://localhost:8080/",
     "height": 483
    },
    "executionInfo": {
     "elapsed": 27,
     "status": "ok",
     "timestamp": 1663152230253,
     "user": {
      "displayName": "David Zumaquero Mairena",
      "userId": "16350040826034481586"
     },
     "user_tz": -120
    },
    "id": "JXbJoYditHfc",
    "outputId": "f5387d2c-aa4f-49bd-b644-bd50e5c07d3a"
   },
   "outputs": [],
   "source": [
    "def spiral_xy(i, spiral_num, freq):\n",
    "    \"\"\"\n",
    "    Create the data for a spiral.\n",
    "    \"\"\"\n",
    "    φ = math.pi*i/(freq*16)  \n",
    "    r = 6.5 * ((freq*104 - i)/(freq*104))\n",
    "    x = (r * math.cos(φ) * spiral_num)/13 + 0.5\n",
    "    y = (r * math.sin(φ) * spiral_num)/13 + 0.5\n",
    "    return (x, y)\n",
    "\n",
    "def spiral(spiral_num):\n",
    "    return [spiral_xy(i,spiral_num,1) for i in range(80)]\n",
    "\n",
    "\n",
    "a_x = list(zip(*spiral(1)))[0]\n",
    "a_y = list(zip(*spiral(1)))[1]\n",
    "\n",
    "b_x = list(zip(*spiral(-1)))[0]\n",
    "b_y = list(zip(*spiral(-1)))[1]\n",
    "\n",
    "plt.figure(figsize=(8, 8))\n",
    "\n",
    "plt.scatter(a_x,a_y, label = 'clase 1')\n",
    "plt.scatter(b_x,b_y,  label = 'clase 0')\n",
    "plt.legend()\n",
    "plt.show()"
   ]
  },
  {
   "cell_type": "code",
   "execution_count": null,
   "metadata": {
    "id": "Lt3VkGhStwjp"
   },
   "outputs": [],
   "source": [
    "data_class_1 = [[x,y,1] for x,y in spiral(1)]\n",
    "data_class_0 = [[x,y,0] for x,y in spiral(-1)]\n",
    "data = data_class_1+data_class_0\n",
    "data_df =pd.DataFrame(data)\n",
    "data_df = data_df.sample(frac=1).reset_index(drop=True)\n",
    "x, y  = data_df.iloc[:,:-1],data_df.iloc[:,-1]\n"
   ]
  },
  {
   "cell_type": "code",
   "execution_count": null,
   "outputs": [],
   "source": [
    "y"
   ],
   "metadata": {
    "collapsed": false
   }
  },
  {
   "cell_type": "code",
   "execution_count": null,
   "outputs": [],
   "source": [
    "x"
   ],
   "metadata": {
    "collapsed": false
   }
  },
  {
   "cell_type": "markdown",
   "metadata": {
    "id": "5nCn9cWXBINz"
   },
   "source": [
    "### Entrenamiento de la red neuronal"
   ]
  },
  {
   "cell_type": "code",
   "execution_count": null,
   "outputs": [],
   "source": [
    "import numpy as np\n",
    "import tensorflow as tf\n",
    "from tensorflow.keras import layers, models\n",
    "\n",
    "# Enable eager execution\n",
    "tf.config.run_functions_eagerly(True)\n",
    "\n",
    "# Generate synthetic data\n",
    "x = np.array([[1.764052, 0.400157],\n",
    "              [0.978738, 2.240893],\n",
    "              [1.867558, -0.977278],\n",
    "              [0.950088, -0.151357],\n",
    "              [-0.103219, 0.410599],\n",
    "              [0.144044, 1.454274],\n",
    "              [0.761038, 0.121675],\n",
    "              [0.443863, 0.333674]])\n",
    "\n",
    "y = np.array([0, 1, 0, 1, 0, 1, 0, 1])\n",
    "\n",
    "# Define the model architecture\n",
    "model = models.Sequential([\n",
    "    layers.Dense(64, activation='relu', input_shape=(2,)),\n",
    "    layers.Dense(64, activation='relu'),\n",
    "    layers.Dense(1, activation='sigmoid')\n",
    "])\n",
    "\n",
    "# Compile the model\n",
    "model.compile(optimizer='adam',\n",
    "              loss='binary_crossentropy',\n",
    "              metrics=['accuracy'])\n",
    "\n",
    "# Convert data to TensorFlow Dataset\n",
    "dataset = tf.data.Dataset.from_tensor_slices((x, y)).batch(32)\n",
    "\n",
    "# Train the model\n",
    "history = model.fit(dataset, epochs=10)"
   ],
   "metadata": {
    "collapsed": false
   }
  },
  {
   "cell_type": "code",
   "execution_count": null,
   "metadata": {
    "id": "Z7HWsUNTDVrW"
   },
   "outputs": [],
   "source": [
    "accuracy = model.evaluate(x, y)[1]\n",
    "layers_numbers = len(model.layers)\n",
    "model_path = f'{layers_numbers}_layers_{accuracy:.2f}_accuracy.h5'\n",
    "model_path"
   ]
  },
  {
   "cell_type": "code",
   "execution_count": null,
   "metadata": {
    "id": "zgB-Am-EDdm1"
   },
   "outputs": [],
   "source": [
    "\n"
   ]
  },
  {
   "cell_type": "code",
   "execution_count": null,
   "metadata": {
    "id": "1Slq9iQwOhwb"
   },
   "outputs": [],
   "source": [
    "model.evaluate(x, y)[1]"
   ]
  },
  {
   "cell_type": "code",
   "execution_count": null,
   "metadata": {
    "id": "eM32CkTADhYM"
   },
   "outputs": [],
   "source": [
    "model = keras.models.load_model('/content/drive/MyDrive/TFM Zumaquero (MAT)/9_layers_1.00_accuracy.h5')\n"
   ]
  },
  {
   "cell_type": "code",
   "execution_count": null,
   "metadata": {
    "id": "LweZAyOmKADp"
   },
   "outputs": [],
   "source": [
    "layer_outputs = get_layers_output(model, x)\n",
    "mask_spiral_1 = [i==1 for i in y]\n",
    "mask_spiral_0 = [i==0 for i in y]"
   ]
  },
  {
   "cell_type": "markdown",
   "metadata": {
    "id": "18Y1p2kdGGf0"
   },
   "source": [
    "### Reporte de las medidas de enredo aplicando el método del radio para el grafo de vecino próximo"
   ]
  },
  {
   "cell_type": "code",
   "execution_count": null,
   "metadata": {
    "colab": {
     "base_uri": "https://localhost:8080/",
     "height": 168
    },
    "executionInfo": {
     "elapsed": 1000,
     "status": "error",
     "timestamp": 1663007037871,
     "user": {
      "displayName": "David Zumaquero Mairena",
      "userId": "16350040826034481586"
     },
     "user_tz": -120
    },
    "id": "JPw6BEhgwivp",
    "outputId": "ad172722-792c-42c7-f532-19505e036d32"
   },
   "outputs": [],
   "source": [
    "do_report(x,layer_outputs,mask_spiral_0,mask_spiral_1,0.85,'r')\n"
   ]
  },
  {
   "cell_type": "code",
   "source": [
    "print(do_report_table(x,layer_outputs,mask_spiral_0,mask_spiral_1,ratio_min = 0.85, max_capas=9,tipo = 'k').to_latex())\n"
   ],
   "metadata": {
    "colab": {
     "base_uri": "https://localhost:8080/"
    },
    "id": "OFZbIae4mt4k",
    "executionInfo": {
     "status": "ok",
     "timestamp": 1663007939771,
     "user_tz": -120,
     "elapsed": 2818,
     "user": {
      "displayName": "David Zumaquero Mairena",
      "userId": "16350040826034481586"
     }
    },
    "outputId": "38e97fbb-f66c-4ef5-f952-e6487a7f5d9e"
   },
   "execution_count": null,
   "outputs": []
  },
  {
   "cell_type": "markdown",
   "metadata": {
    "id": "NYEztlrIGLrw"
   },
   "source": [
    "###Reporte de las medidas de enredo aplicando k vecimos más próximos"
   ]
  },
  {
   "cell_type": "code",
   "execution_count": null,
   "metadata": {
    "colab": {
     "base_uri": "https://localhost:8080/"
    },
    "executionInfo": {
     "elapsed": 4956,
     "status": "ok",
     "timestamp": 1662664716571,
     "user": {
      "displayName": "David Zumaquero Mairena",
      "userId": "16350040826034481586"
     },
     "user_tz": -120
    },
    "id": "_Ggw19New-ZN",
    "outputId": "62729ef5-a1b0-4bf1-b4fd-b06909dcc480"
   },
   "outputs": [],
   "source": [
    "do_report(x,layer_outputs,mask_spiral_1,mask_spiral_0,0.9,'k')"
   ]
  },
  {
   "cell_type": "markdown",
   "metadata": {
    "id": "XZlJ1pNlQF9m"
   },
   "source": [
    "## DATASET DIGITOS"
   ]
  },
  {
   "cell_type": "code",
   "execution_count": null,
   "metadata": {
    "id": "ow4HNXxXQuNd",
    "colab": {
     "base_uri": "https://localhost:8080/"
    },
    "executionInfo": {
     "status": "ok",
     "timestamp": 1663009655047,
     "user_tz": -120,
     "elapsed": 885,
     "user": {
      "displayName": "David Zumaquero Mairena",
      "userId": "16350040826034481586"
     }
    },
    "outputId": "8de06da6-4072-4366-803b-6f449f4f1c39"
   },
   "outputs": [],
   "source": [
    "from sklearn.datasets import load_digits\n",
    "#from keras.datasets import mnist\n",
    "import pandas as pd\n",
    "\n",
    "digits=load_digits(as_frame=True)\n",
    "mnist.load_data()\n",
    "X = digits.data\n",
    "Y = digits.target\n",
    "X['target'] = Y\n",
    "\n",
    "X.shape"
   ]
  },
  {
   "cell_type": "code",
   "execution_count": null,
   "metadata": {
    "colab": {
     "base_uri": "https://localhost:8080/"
    },
    "executionInfo": {
     "elapsed": 381,
     "status": "ok",
     "timestamp": 1663009299806,
     "user": {
      "displayName": "David Zumaquero Mairena",
      "userId": "16350040826034481586"
     },
     "user_tz": -120
    },
    "id": "wPnq8XwSRLct",
    "outputId": "264a0c3d-9e8a-4b97-cc81-4cc710e15b7c"
   },
   "outputs": [],
   "source": [
    "\n",
    "digits_mask = [i==8 or i==1 for i in Y]\n",
    "digits_df = X.iloc[digits_mask]\n",
    "digits_df['target'] = digits_df['target'].replace(8,0)\n",
    "digits_df =digits_df.reset_index(drop =True)\n",
    "x, y  =  digits_df.iloc[:,:-1],digits_df.iloc[:,-1]\n",
    "x.shape\n",
    "\n",
    "#x.iloc[mask_digits_1]"
   ]
  },
  {
   "cell_type": "markdown",
   "metadata": {
    "id": "5p_67estJquQ"
   },
   "source": [
    "### Entrenamos dataset de digitos"
   ]
  },
  {
   "cell_type": "code",
   "execution_count": null,
   "metadata": {
    "colab": {
     "base_uri": "https://localhost:8080/"
    },
    "executionInfo": {
     "elapsed": 7433,
     "status": "ok",
     "timestamp": 1663011039693,
     "user": {
      "displayName": "David Zumaquero Mairena",
      "userId": "16350040826034481586"
     },
     "user_tz": -120
    },
    "id": "uyqFmplEUw5r",
    "outputId": "9150ea05-15a1-4af4-e9d6-a3be29f3aa70"
   },
   "outputs": [],
   "source": [
    "# Fijamos la semilla para que no varie nuestro modelo de un entranamiento a otro\n",
    "tf.random.set_seed(0)\n",
    "optimizer = keras.optimizers.Adam(learning_rate=0.001)\n",
    "es = keras.callbacks.EarlyStopping(monitor='loss', mode='min', verbose=1, patience=1000, restore_best_weights=True)\n",
    "model = keras.Sequential([\n",
    "\n",
    "    layers.Dense(units= 10, activation='relu', input_shape=[64]),\n",
    "    layers.Dense(units=10, activation='relu'),\n",
    "    layers.Dense(units=10, activation='relu'),\n",
    "\n",
    "\n",
    "\n",
    "    \n",
    "\n",
    "\n",
    "    layers.Dense(units=1,activation = 'sigmoid'),\n",
    "])\n",
    "model.compile(loss='binary_crossentropy',optimizer=optimizer, metrics=['accuracy'],experimental_run_tf_function=False)\n",
    "\n",
    "history = model.fit(\n",
    "    x,y ,\n",
    "    batch_size=60,\n",
    "    epochs=300,\n",
    "    callbacks = [es],\n",
    "    verbose=1, # hide the output because we have so many epochs\n",
    ")\n",
    "\n"
   ]
  },
  {
   "cell_type": "code",
   "execution_count": null,
   "metadata": {
    "colab": {
     "base_uri": "https://localhost:8080/",
     "height": 91
    },
    "executionInfo": {
     "elapsed": 466,
     "status": "ok",
     "timestamp": 1663012029276,
     "user": {
      "displayName": "David Zumaquero Mairena",
      "userId": "16350040826034481586"
     },
     "user_tz": -120
    },
    "id": "R-PqP4fnQJOO",
    "outputId": "82960ee6-14e1-4ef1-afc8-36952731b659"
   },
   "outputs": [],
   "source": [
    "accuracy = model.evaluate(x, y)[1]\n",
    "layers_numbers = len(model.layers)\n",
    "model_path = f'bueno_digits_{layers_numbers}_layers_{accuracy:.2f}_accuracy.h5'\n",
    "model_path"
   ]
  },
  {
   "cell_type": "code",
   "execution_count": null,
   "metadata": {
    "id": "TN7rj9gNQal8"
   },
   "outputs": [],
   "source": [
    "model.save(model_path)"
   ]
  },
  {
   "cell_type": "code",
   "execution_count": null,
   "metadata": {
    "id": "GU7W7ZRDWBV4",
    "executionInfo": {
     "status": "ok",
     "timestamp": 1663011043445,
     "user_tz": -120,
     "elapsed": 959,
     "user": {
      "displayName": "David Zumaquero Mairena",
      "userId": "16350040826034481586"
     }
    },
    "colab": {
     "base_uri": "https://localhost:8080/"
    },
    "outputId": "8275641b-de41-43d9-ba8c-91b151b08411"
   },
   "outputs": [],
   "source": [
    "layer_outputs_digits = get_layers_output(model, x)\n",
    "mask_digits_0 = [i==0 for i in y]\n",
    "mask_digits_1 = [i==1 for i in y]\n",
    "sum([1 for i in mask_digits_0 if i])"
   ]
  },
  {
   "cell_type": "markdown",
   "metadata": {
    "id": "t9OQoMylLOyM"
   },
   "source": [
    "### Reporte de tipo k vecinos próximos"
   ]
  },
  {
   "cell_type": "code",
   "execution_count": null,
   "metadata": {
    "colab": {
     "base_uri": "https://localhost:8080/"
    },
    "executionInfo": {
     "elapsed": 3576,
     "status": "ok",
     "timestamp": 1663011756076,
     "user": {
      "displayName": "David Zumaquero Mairena",
      "userId": "16350040826034481586"
     },
     "user_tz": -120
    },
    "id": "XLtzmdcYLM0i",
    "outputId": "e9347b86-68c7-4974-c918-371f39091329"
   },
   "outputs": [],
   "source": [
    "print(do_report_table(x,layer_outputs_digits,mask_digits_0,mask_digits_1,3,0.8,'k').to_latex())"
   ]
  },
  {
   "cell_type": "markdown",
   "metadata": {
    "id": "Vc6PIdyfLTSk"
   },
   "source": [
    "### Reporte de tipo radio "
   ]
  },
  {
   "cell_type": "code",
   "execution_count": null,
   "metadata": {
    "id": "-bqz4-7LWTKu",
    "colab": {
     "base_uri": "https://localhost:8080/"
    },
    "executionInfo": {
     "status": "ok",
     "timestamp": 1662903734961,
     "user_tz": -120,
     "elapsed": 37828,
     "user": {
      "displayName": "David Zumaquero Mairena",
      "userId": "16350040826034481586"
     }
    },
    "outputId": "777e37cf-8d61-4fe1-a52f-ee5c990f7b1a"
   },
   "outputs": [],
   "source": [
    "do_report(x,layer_outputs_digits,mask_digits_0,mask_digits_1,0.7,'r')\n"
   ]
  },
  {
   "cell_type": "code",
   "source": [],
   "metadata": {
    "id": "LLNq-i6yzcmA"
   },
   "execution_count": null,
   "outputs": []
  },
  {
   "cell_type": "markdown",
   "source": [
    "### Reporte radio en formato tabla\n"
   ],
   "metadata": {
    "id": "RACjr-gpvbLP"
   }
  },
  {
   "cell_type": "code",
   "source": [
    "do_report_table(x,layer_outputs_digits,mask_digits_0,mask_digits_1,ratio_min = 1)\n"
   ],
   "metadata": {
    "colab": {
     "base_uri": "https://localhost:8080/",
     "height": 510
    },
    "id": "y03aRueEvaTM",
    "executionInfo": {
     "status": "ok",
     "timestamp": 1662903575143,
     "user_tz": -120,
     "elapsed": 71041,
     "user": {
      "displayName": "David Zumaquero Mairena",
      "userId": "16350040826034481586"
     }
    },
    "outputId": "c6b7c2b5-267a-4835-8994-1516f2e21641"
   },
   "execution_count": null,
   "outputs": []
  },
  {
   "cell_type": "code",
   "source": [],
   "metadata": {
    "id": "NNEfA4sYx0iO"
   },
   "execution_count": null,
   "outputs": []
  }
 ],
 "metadata": {
  "colab": {
   "collapsed_sections": [
    "Y5VArjLIB2gQ",
    "18Y1p2kdGGf0",
    "NYEztlrIGLrw",
    "XZlJ1pNlQF9m",
    "t9OQoMylLOyM"
   ],
   "provenance": [],
   "mount_file_id": "1YHvv7FM1dfDJQ7QvmN9AWJTYtLzeVO0q",
   "authorship_tag": "ABX9TyPyHXBG0HdM/FG/SF8DOoYp"
  },
  "kernelspec": {
   "name": "python3",
   "language": "python",
   "display_name": "Python 3 (ipykernel)"
  },
  "language_info": {
   "name": "python"
  }
 },
 "nbformat": 4,
 "nbformat_minor": 0
}
