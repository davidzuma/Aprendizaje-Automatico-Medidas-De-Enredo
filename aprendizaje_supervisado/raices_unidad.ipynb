{
 "cells": [
  {
   "cell_type": "code",
   "execution_count": null,
   "metadata": {},
   "outputs": [
    {
     "ename": "",
     "evalue": "",
     "output_type": "error",
     "traceback": [
      "\u001b[1;31mLa ejecución de celdas con 'Python 3.8.11 ('house_pred')' requieren el paquete ipykernel.\n",
      "\u001b[1;31mEjecute el siguiente comando para instalar 'ipykernel' en el entorno de Python. comando \n",
      "\u001b[1;31m: 'conda install -n house_pred ipykernel --update-deps --force-reinstall'"
     ]
    }
   ],
   "source": [
    "import numpy as np\n",
    "import matplotlib.pyplot as plt\n",
    "from pylab import*\n",
    "\n",
    "# Circunferencia\n",
    "theta = np.linspace(0, 2*np.pi)\n",
    "r= 1\n",
    "x = r*np.cos(theta)\n",
    "y = r*np.sin(theta)\n",
    "\n",
    "# Raíces 7-ésimas de la unidad en R2\n",
    "roots = [2*i *np.pi/7 for i in range(1,8)]\n",
    "x_roots = r*np.cos(roots)\n",
    "y_roots = r*np.sin(roots)\n",
    "\n",
    "# Visualización\n",
    "plt.plot(x,y, color = 'r')\n",
    "plt.scatter(x_roots, y_roots, label = 'Raíces 7-ésimas')\n",
    "plt.axhline(0, color='black')\n",
    "plt.axvline(0, color='black')\n",
    "plt.axis('equal')\n",
    "\n",
    "grid(True)\n",
    "plt.legend()\n",
    "plt.savefig('7-roots.jpg')\n"
   ]
  }
 ],
 "metadata": {
  "kernelspec": {
   "display_name": "Python 3.8.11 ('house_pred')",
   "language": "python",
   "name": "python3"
  },
  "language_info": {
   "name": "python",
   "version": "3.8.11"
  },
  "orig_nbformat": 4,
  "vscode": {
   "interpreter": {
    "hash": "42377351a2d85f862f06dbea7eaad2fc95cdae3f282b0a70b346a63b669e6704"
   }
  }
 },
 "nbformat": 4,
 "nbformat_minor": 2
}
